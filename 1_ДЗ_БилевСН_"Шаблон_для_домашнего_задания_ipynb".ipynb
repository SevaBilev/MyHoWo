{
  "nbformat": 4,
  "nbformat_minor": 0,
  "metadata": {
    "colab": {
      "provenance": [],
      "include_colab_link": true
    },
    "kernelspec": {
      "name": "python3",
      "display_name": "Python 3"
    },
    "language_info": {
      "name": "python"
    }
  },
  "cells": [
    {
      "cell_type": "markdown",
      "metadata": {
        "id": "view-in-github",
        "colab_type": "text"
      },
      "source": [
        "<a href=\"https://colab.research.google.com/github/SevaBilev/MyHoWo/blob/main/1_%D0%94%D0%97_%D0%91%D0%B8%D0%BB%D0%B5%D0%B2%D0%A1%D0%9D_%22%D0%A8%D0%B0%D0%B1%D0%BB%D0%BE%D0%BD_%D0%B4%D0%BB%D1%8F_%D0%B4%D0%BE%D0%BC%D0%B0%D1%88%D0%BD%D0%B5%D0%B3%D0%BE_%D0%B7%D0%B0%D0%B4%D0%B0%D0%BD%D0%B8%D1%8F_ipynb%22.ipynb\" target=\"_parent\"><img src=\"https://colab.research.google.com/assets/colab-badge.svg\" alt=\"Open In Colab\"/></a>"
      ]
    },
    {
      "cell_type": "code",
      "source": [
        "# Задание на 8 баллов\n",
        "\n",
        "print('Добрый день! Я бот Семен.')\n",
        "print('Я могу найти управляющую компанию, которая обслуживает Ваш дом.\\\n",
        "       Пожалуйста укажите Ваш адрес в следующем формате: название улицы, номер дома. Пример: Классная, 10')\n",
        "\n",
        "answer = input()\n",
        "\n",
        "\n",
        "if answer == 'Лунная, 5' or answer == 'Лунная, 7' or answer == 'Лунная, 9' or answer == 'Лунная, 11':\n",
        "  print('Ваш дом обслуживает управляющая компания Лунный свет')\n",
        "  print('Если хотите увидеть контакттную информацию напишите \"Да\"')\n",
        "  сontact = input()\n",
        "  if сontact == 'да' or сontact == 'Да' or сontact == 'ДА' or сontact == 'дА' or сontact == 'Lf' or сontact == 'lf' or сontact == 'LF' or сontact == 'lF':\n",
        "    print('Телефон диспетчера: 8 (800) 555-35-35. Адрес: ул. Чистая, д. 5')\n",
        "    print('Всегда рад помочь!')\n",
        "  else:\n",
        "    print('Вы всегда можете вернуться! До свидания!')\n",
        "elif answer =='Лунная, 6' or answer == 'Лунная, 8' or answer == 'Лунная, 10' or answer == 'Лунная, 12':\n",
        "  print('Ваш дом обслуживает управляющая компания Живи.ЮГ')\n",
        "  print('Если хотите увидеть контакттную информацию напишите \"Да\"')\n",
        "  сontact = input()\n",
        "  if сontact == 'да' or сontact == 'Да' or сontact == 'ДА' or сontact == 'дА' or сontact == 'Lf' or сontact == 'lf' or сontact == 'LF' or сontact == 'lF':\n",
        "    print('Телефон диспетчера: 8 (800) 456-55-55. Адрес: ул. Чудесная, д. 33')\n",
        "    print('Всегда рад помочь!')\n",
        "  else:\n",
        "    print('Вы всегда можете вернуться! До свидания!')\n",
        "elif answer == 'Солнечная, 20' or answer == 'Солнечная, 22' or answer == 'Солнечная, 24' or answer == 'Солнечная, 26':\n",
        "  print('Ваш дом обслуживает ЖЭК №3')\n",
        "  print('Если хотите увидеть контакттную информацию напишите \"Да\"')\n",
        "  сontact = input()\n",
        "  if сontact == 'да' or сontact == 'Да' or сontact == 'ДА' or сontact == 'дА' or сontact == 'Lf' or сontact == 'lf' or сontact == 'LF' or сontact == 'lF':\n",
        "    print('Телефон диспетчера: 8 (800) 942-42-24. Адрес: ул. Добрая, д. 40')\n",
        "    print('Всегда рад помочь!')\n",
        "  else:\n",
        "    print('Вы всегда можете вернуться! До свидания!')\n",
        "elif answer == 'Солнечная, 21' or answer == 'Солнечная, 23' or answer == 'Солнечная, 25' or answer == 'Солнечная, 27':\n",
        "  print('Ваш дом обслуживает ЖЭК №1')\n",
        "  print('Если хотите увидеть контакттную информацию напишите \"Да\"')\n",
        "  сontact = input()\n",
        "  if сontact == 'да' or сontact == 'Да' or сontact == 'ДА' or сontact == 'дА' or сontact == 'Lf' or сontact == 'lf' or сontact == 'LF' or сontact == 'lF':\n",
        "    print('Телефон диспетчера: 8 (800) 777-77-77. Адрес: ул. Удачная, д. 777')\n",
        "    print('Всегда рад помочь!')\n",
        "  else:\n",
        "    print('Вы всегда можете вернуться! До свидания!')\n",
        "else:\n",
        "  print('К сожалению, мне не удалось найти Ваш адрес. Пожалуйста проверьте, что введеный адрес соответствует формату.\\\n",
        "         Если Вы всё сделали правильно значит Вашего адреса нет в моей базе. Прошу принять и простить, я только учусь ¯\\_(ツ)_/¯.')"
      ],
      "metadata": {
        "id": "XHezysDcR_A7",
        "colab": {
          "base_uri": "https://localhost:8080/"
        },
        "outputId": "219bda3d-cf70-4946-ba8f-a42344f1cc78"
      },
      "execution_count": null,
      "outputs": [
        {
          "output_type": "stream",
          "name": "stdout",
          "text": [
            "Добрый день! Я бот Семен.\n",
            "Я могу найти управляющую компанию, которая обслуживает Ваш дом.       Пожалуйста укажите Ваш адрес в следующем формате: название улицы, номер дома. Пример: Классная, 10\n",
            "Солнечная, 27\n",
            "Ваш дом обслуживает ЖЭК №1\n",
            "Если хотите увидеть контакттную информацию напишите \"Да\"\n",
            "дА\n",
            "Телефон диспетчера: 8 (800) 777-77-77. Адрес: ул. Удачная, д. 777\n",
            "Всегда рад помочь!\n"
          ]
        }
      ]
    },
    {
      "cell_type": "code",
      "source": [
        "# Задание на 10 баллов\n",
        "# Я пытался... так и не понял, как вернуть его в начало после завершения цикла. С while не справился.\n",
        "\n",
        "!pip install pytelegrambotapi\n",
        "\n",
        "import telebot\n",
        "from telebot import types"
      ],
      "metadata": {
        "id": "iuR21biaS57C",
        "colab": {
          "base_uri": "https://localhost:8080/"
        },
        "outputId": "6b83ee10-506c-4135-a598-395106bd0d77"
      },
      "execution_count": null,
      "outputs": [
        {
          "output_type": "stream",
          "name": "stdout",
          "text": [
            "Requirement already satisfied: pytelegrambotapi in /usr/local/lib/python3.10/dist-packages (4.14.0)\n",
            "Requirement already satisfied: requests in /usr/local/lib/python3.10/dist-packages (from pytelegrambotapi) (2.31.0)\n",
            "Requirement already satisfied: charset-normalizer<4,>=2 in /usr/local/lib/python3.10/dist-packages (from requests->pytelegrambotapi) (3.3.2)\n",
            "Requirement already satisfied: idna<4,>=2.5 in /usr/local/lib/python3.10/dist-packages (from requests->pytelegrambotapi) (3.6)\n",
            "Requirement already satisfied: urllib3<3,>=1.21.1 in /usr/local/lib/python3.10/dist-packages (from requests->pytelegrambotapi) (2.0.7)\n",
            "Requirement already satisfied: certifi>=2017.4.17 in /usr/local/lib/python3.10/dist-packages (from requests->pytelegrambotapi) (2023.11.17)\n"
          ]
        }
      ]
    },
    {
      "cell_type": "code",
      "execution_count": null,
      "metadata": {
        "id": "oMrgrt0fRxnk"
      },
      "outputs": [],
      "source": [
        "your_bot = '6714484364:AAHiMKhzCGr0l5AAOc-MBoYoTen4Kzk5WH4'\n",
        "\n",
        "bot = telebot.TeleBot(your_bot) # обновим токен\n",
        "\n",
        "\n",
        "\n",
        "@bot.message_handler(commands=[\"start\"])\n",
        "def start(message, res=False):\n",
        "  bot.send_message(message.chat.id, 'Добрый день! Я бот Семен. Я могу найти управляющую компанию, которая обслуживает Ваш дом.\\\n",
        "                                     Пожалуйста укажите Ваш адрес в следующем формате: название улицы, номер дома. Пример: Классная, 10')\n",
        "\n",
        "@bot.message_handler(content_types=[\"text\"])\n",
        "def handle_text(message):\n",
        "  if message.text.strip() == 'Лунная, 5' or message.text.strip() == 'Лунная, 7' or message.text.strip() == 'Лунная, 9' or message.text.strip() == 'Лунная, 11':\n",
        "    bot.send_message(message.chat.id, 'Ваш дом обслуживает управляющая компания Лунный свет. Если хотите увидеть контакттную информацию напишите \"Да\"')\n",
        "    bot.register_next_step_handler(message, next_question)\n",
        "  elif message.text.strip() =='Лунная, 6' or message.text.strip() == 'Лунная, 8' or message.text.strip() == 'Лунная, 10' or message.text.strip() == 'Лунная, 12':\n",
        "    bot.send_message(message.chat.id,'Ваш дом обслуживает управляющая компания Живи.ЮГ. Если хотите увидеть контакттную информацию напишите \"Да\"')\n",
        "    bot.register_next_step_handler(message, next_question1)\n",
        "  elif message.text.strip() == 'Солнечная, 20' or message.text.strip() == 'Солнечная, 22' or message.text.strip() == 'Солнечная, 24' or message.text.strip() == 'Солнечная, 26':\n",
        "    bot.send_message(message.chat.id,'Ваш дом обслуживает ЖЭК №3. Если хотите увидеть контакттную информацию напишите \"Да\"')\n",
        "    bot.register_next_step_handler(message, next_question2)\n",
        "  elif message.text.strip() == 'Солнечная, 21' or message.text.strip() == 'Солнечная, 23' or message.text.strip() == 'Солнечная, 25' or message.text.strip() == 'Солнечная, 27':\n",
        "    bot.send_message(message.chat.id,'Ваш дом обслуживает ЖЭК №1. Если хотите увидеть контакттную информацию напишите \"Да\"')\n",
        "    bot.register_next_step_handler(message, next_question3)\n",
        "  else:\n",
        "    bot.send_message(message.chat.id, 'Спасибо, что написали мне!')\n",
        "\n",
        "\n",
        "def next_question(message):\n",
        "  if message.text.strip() == 'Да':\n",
        "    bot.send_message(message.chat.id, 'Телефон диспетчера: 8 (800) 555-35-35. Адрес: ул. Чистая, д. 5')\n",
        "\n",
        "def next_question1(message):\n",
        "   if message.text.strip() == 'Да':\n",
        "    bot.send_message(message.chat.id, 'Телефон диспетчера: 8 (800) 456-55-55. Адрес: ул. Чудесная, д. 33')\n",
        "\n",
        "def next_question2(message):\n",
        "  if message.text.strip() == 'Да':\n",
        "    bot.send_message(message.chat.id, 'Телефон диспетчера: 8 (800) 942-42-24. Адрес: ул. Добрая, д. 40')\n",
        "\n",
        "\n",
        "def next_question3(message):\n",
        "  if message.text.strip() == 'Да':\n",
        "    bot.send_message(message.chat.id, 'Телефон диспетчера: 8 (800) 777-77-77. Адрес: ул. Удачная, д. 777')\n",
        "\n",
        "\n",
        "\n",
        "\n",
        "\n",
        "\n",
        "\n",
        "#@bot.message_handler(content_types=[\"text\"])\n",
        "#def handle_text(message):\n",
        "  # bot.send_message(message.chat.id, \"Сообщение, которое бот присылает всегда, вне зависимости от ответа пользователя\")\n",
        "  # если не нужно, поставьте перед ним #, и питон будет его пропускать\n",
        "\n",
        "  #if message.text.strip() == 'Сообщение пользователя':\n",
        "    #bot.send_message(message.chat.id, 'Ответ бота')\n",
        "\n",
        "  #elif message.text.strip() == 'Другое сообщение пользователя':\n",
        "    #bot.send_message(message.chat.id, 'Ответ бота')\n",
        "\n",
        "  #else:\n",
        "    #bot.send_message(message.chat.id, 'Ответ бота, если ничего из if - elif не подошло')\n",
        "\n",
        "#bot.polling(none_stop=True, interval=0) # запускаем бота"
      ]
    },
    {
      "cell_type": "code",
      "source": [
        "bot.polling(none_stop=True, interval=0)"
      ],
      "metadata": {
        "id": "x9wwprQp31zM"
      },
      "execution_count": null,
      "outputs": []
    }
  ]
}